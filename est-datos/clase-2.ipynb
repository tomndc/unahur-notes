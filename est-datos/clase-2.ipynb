{
 "cells": [
  {
   "cell_type": "markdown",
   "metadata": {},
   "source": [
    "# Introducción a Python\n",
    "## Parte 2\n",
    "\n",
    "## Estructuras de Datos\n",
    "\n",
    "### Funciones\n",
    "- Muchas veces, partes del programa se repiten.\n",
    "- Es una buena práctica separar estas partes para crear **\"Funciones\"**.\n",
    "  - Bloques de código que realizan tareas específicas.\n",
    "  - El programa principal los **\"llama\"**.\n",
    "  - Se produce un **salto en la ejecución**.\n",
    "\n",
    "### Funciones\n",
    "- El programa principal las **llama**.\n",
    "- Comunicación:\n",
    "  - **Entrada**: Se envían datos desde el programa principal a la función.\n",
    "  - **Salida**: Se envían datos desde la función al programa principal.\n",
    "\n",
    "### Definición\n",
    "- **Nombre**: Debe ser indicativo.\n",
    "- **Parámetros**: Variables que se usan como entrada.\n",
    "- **Salida**.\n",
    "\n",
    "### Invocación (Llamado)\n",
    "- Se utiliza su **nombre** y los **argumentos** entre paréntesis.\n",
    "- Los argumentos deben coincidir en **cantidad, orden y tipo** con los parámetros de la definición.\n",
    "\n",
    "### Ámbito de Variables\n",
    "- **Ámbito (scope)**: Parte del programa donde existe una variable.\n",
    "- **Variables locales**:\n",
    "  - Declaradas y utilizadas dentro de una función.\n",
    "  - Se pueden compartir nombres.\n",
    "  - No son accesibles desde fuera de la función.\n",
    "\n",
    "### Paso de Parámetros\n",
    "- Tipos:\n",
    "  - **Paso por valor**.\n",
    "  - **Paso por referencia**.\n",
    "\n",
    "### Paso por Valor\n",
    "- La función recibe **el valor** de la variable.\n",
    "- Modificaciones a dicha variable solo tienen efecto dentro de la función.\n",
    "\n",
    "### Paso por Referencia\n",
    "- **Parámetros de Entrada / Salida**.\n",
    "- Modificaciones a variables dentro de la función se mantienen fuera de ella.\n",
    "\n",
    "### Funciones en Python\n",
    "- **Tipos primitivos**: Solo se permite **paso por valor**.\n",
    "- **Tipos NO primitivos**: Solo se permite **paso por referencia**.\n",
    "- Se pueden poner valores por **defecto**, permitiendo cambiar el orden de los parámetros.\n"
   ]
  },
  {
   "cell_type": "code",
   "execution_count": null,
   "metadata": {},
   "outputs": [],
   "source": [
    "# Función suma de dos números enteros en Python\n",
    "# Definición de la función\n",
    "\n",
    "def suma(a, b):\n",
    "    return a + b\n",
    "\n",
    "# Invocación de la función\n",
    "resultado = suma(5, 3)\n",
    "print(\"La suma es:\", resultado)"
   ]
  }
 ],
 "metadata": {
  "language_info": {
   "name": "python"
  }
 },
 "nbformat": 4,
 "nbformat_minor": 2
}
